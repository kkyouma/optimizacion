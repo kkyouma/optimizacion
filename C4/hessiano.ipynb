{
 "cells": [
  {
   "cell_type": "code",
   "execution_count": 9,
   "metadata": {},
   "outputs": [],
   "source": [
    "from sympy import symbols, diff, Matrix, solve, hessian, var, det, print_latex, pprint\n",
    "import numpy as np\n",
    "import time"
   ]
  },
  {
   "cell_type": "markdown",
   "metadata": {},
   "source": [
    "## Ejercicio 1"
   ]
  },
  {
   "cell_type": "code",
   "execution_count": 3,
   "metadata": {},
   "outputs": [
    {
     "name": "stdout",
     "output_type": "stream",
     "text": [
      "El punto (-2, -1) es un máximo local.\n",
      "El punto (-1, -2) es un punto de silla.\n",
      "El punto (1, 2) es un punto de silla.\n",
      "El punto (2, 1) es un mínimo local.\n"
     ]
    },
    {
     "data": {
      "text/plain": [
       "[(-2, -1), (-1, -2), (1, 2), (2, 1)]"
      ]
     },
     "metadata": {},
     "output_type": "display_data"
    }
   ],
   "source": [
    "x, y = symbols(\"x y\")\n",
    "\n",
    "# Se define la función f(x, y) que queremos analizar\n",
    "f = x**3 + 3*x*y**2 - 15*x - 12*y\n",
    "\n",
    "# Calculamos la matriz hessiana de la función f\n",
    "H = hessian(f, (x,y))\n",
    "\n",
    "# Calculamos las derivadas parciales de primer orden de la función f\n",
    "fx = diff(f, x)\n",
    "fy = diff(f, y)\n",
    "\n",
    "# Encontramos los puntos críticos igualando las derivadas parciales a cero\n",
    "critical_points = solve([fx, fy], (x, y))\n",
    "\n",
    "# Evaluando los puntos críticos\n",
    "if not critical_points:\n",
    "    print(\"No se encontraron puntos críticos\")\n",
    "else:\n",
    "    for point in critical_points:\n",
    "        fxx = diff(fx, x).subs({x: point[0], y: point[1]})\n",
    "        fyy = diff(fy, y).subs({x: point[0], y: point[1]})\n",
    "        fxy = diff(fx, y).subs({x: point[0], y: point[1]})\n",
    "        \n",
    "        determinant = fxx*fyy - fxy**2\n",
    "        \n",
    "        if determinant > 0 and fxx > 0:\n",
    "            print(f\"El punto {point} es un mínimo local.\")\n",
    "        elif determinant > 0 and fxx < 0:\n",
    "            print(f\"El punto {point} es un máximo local.\")\n",
    "        elif determinant < 0:\n",
    "            print(f\"El punto {point} es un punto de silla.\")\n",
    "        else:\n",
    "            print(f\"No se puede determinar la naturaleza del punto {point}.\")\n",
    "            \n",
    "display(critical_points)\n"
   ]
  },
  {
   "cell_type": "code",
   "execution_count": 4,
   "metadata": {},
   "outputs": [
    {
     "name": "stdout",
     "output_type": "stream",
     "text": [
      "Resultado para el punto (-2, -1) es 28\n",
      "Resultado para el punto (-1, -2) es 26\n",
      "Resultado para el punto (1, 2) es -26\n",
      "Resultado para el punto (2, 1) es -28\n"
     ]
    }
   ],
   "source": [
    "for point in critical_points:\n",
    "    x = point[0]\n",
    "    y = point[1]\n",
    "    result = x**3 + 3*x*y**2 - 15*x - 12*y\n",
    "    print(f\"Resultado para el punto {point} es {result}\")"
   ]
  },
  {
   "cell_type": "markdown",
   "metadata": {},
   "source": [
    "## Ejercicio 2"
   ]
  },
  {
   "cell_type": "code",
   "execution_count": 5,
   "metadata": {},
   "outputs": [
    {
     "data": {
      "text/plain": [
       "{x: -2/3, y: -1/3, z: 1/2}"
      ]
     },
     "metadata": {},
     "output_type": "display_data"
    }
   ],
   "source": [
    "x, y, z = var(\"x y z\")\n",
    "\n",
    "f = x**2 + y**2 + z**2 + x - x * y - z\n",
    "\n",
    "H = hessian(f, (x, y, z))\n",
    "\n",
    "f_grad = [diff(f, var) for var in (x, y, z)]\n",
    "\n",
    "critical_points = solve(f_grad, (x, y, z))\n",
    "\n",
    "if isinstance(critical_points, dict):\n",
    "    # Si es un diccionario, convertirlo a lista \n",
    "    formatted_points = [(critical_points[x], critical_points[y], critical_points[z])]\n",
    "else:\n",
    "    # Manejar otros tipos de datos (si es necesario)\n",
    "    formatted_points = []\n",
    "    \n",
    "display(critical_points)\n"
   ]
  },
  {
   "cell_type": "code",
   "execution_count": 6,
   "metadata": {},
   "outputs": [
    {
     "name": "stdout",
     "output_type": "stream",
     "text": [
      "Critical point 1\n",
      "dets: [2, 3, 6]\n",
      "---\n"
     ]
    }
   ],
   "source": [
    "point_count = 0\n",
    "for point in formatted_points:\n",
    "    point_count += 1\n",
    "    H_sub = H.subs({var: val for val, var in zip((x, y, z), point)})\n",
    "    dets = [H_sub[:i, :i].det() for i in range(1, H_sub.rows + 1)]\n",
    "    \n",
    "    print(f\"Critical point {point_count}\\ndets: {dets}\\n---\")"
   ]
  },
  {
   "cell_type": "markdown",
   "metadata": {},
   "source": [
    "## Ejercicio 3"
   ]
  },
  {
   "cell_type": "code",
   "execution_count": 6,
   "metadata": {},
   "outputs": [
    {
     "data": {
      "text/latex": [
       "$\\displaystyle \\left[\\begin{matrix}78 x + 92 & -1 & 0 & 0\\\\-1 & 0.6 & 0 & 0\\\\0 & 0 & 4.6 & 0\\\\0 & 0 & 0 & 1.0\\end{matrix}\\right]$"
      ],
      "text/plain": [
       "Matrix([\n",
       "[78*x + 92,  -1,   0,   0],\n",
       "[       -1, 0.6,   0,   0],\n",
       "[        0,   0, 4.6,   0],\n",
       "[        0,   0,   0, 1.0]])"
      ]
     },
     "metadata": {},
     "output_type": "display_data"
    },
    {
     "name": "stdout",
     "output_type": "stream",
     "text": [
      "Critical point 1\n",
      "dets: [-87.7990312913279, -53.6794187747967, -246.925326364065, -246.925326364065]\n",
      "---\n",
      "El punto (-2.30511578578625, -3.84185964297709, 0.434782608695652, -2.00000000000000) es mayor local\n",
      "Critical point 2\n",
      "dets: [91.1323646246612, 53.6794187747967, 246.925326364065, 246.925326364065]\n",
      "---\n",
      "El punto (-0.0111235304530613, -0.0185392174217688, 0.434782608695652, -2.00000000000000) es un menor local\n"
     ]
    }
   ],
   "source": [
    "# Definir variables simbólicas\n",
    "x, y, z, w = symbols('x y z w')\n",
    "\n",
    "# Definir la función\n",
    "f = 13*x**3 + 46*x**2 + 0.3*y**2 + 2.3*z**2 - x*y + x - 2*z + 0.5*w**2 + 2*w\n",
    "\n",
    "# Calcular la matriz hessiana\n",
    "H = hessian(f, (x, y, z, w))\n",
    "display(H)\n",
    "\n",
    "# Calcular las derivadas parciales\n",
    "grad_f = [diff(f, var) for var in (x, y, z, w)]\n",
    "\n",
    "# Encontrar los puntos críticos\n",
    "critical_points = solve(grad_f, (x, y, z, w))\n",
    "\n",
    "# Calcular los determinantes de las submatrices\n",
    "point_count = 0\n",
    "for point in critical_points:\n",
    "    point_count += 1\n",
    "    H_sub = H.subs({var: val for var, val in zip((x, y, z, w), point)})\n",
    "    dets = [H_sub[:i, :i].det() for i in range(1, H_sub.rows + 1)]\n",
    "    print(f\"Critical point {point_count}\\ndets: {dets}\\n---\")\n",
    "    if all(x > 0 for x in dets):\n",
    "        print(f\"El punto {point} es un menor local\")\n",
    "    elif all(x < 0 for x in dets):\n",
    "        print(f\"El punto {point} es mayor local\")\n",
    "    elif all(x == 0 for x in dets):\n",
    "        print(f\"No se puede determinar\")\n",
    "    else:\n",
    "        print(f\"El punto {point} es un punto de silla\")\n",
    "    "
   ]
  },
  {
   "cell_type": "code",
   "execution_count": 15,
   "metadata": {},
   "outputs": [
    {
     "name": "stdout",
     "output_type": "stream",
     "text": [
      "[2.8921825287054794, 2.076375853912219, 8.638963861233309]\n"
     ]
    }
   ],
   "source": [
    "def d3_obj_function(x, y, z):\n",
    "    return np.sin(4*x) - x**2 + 10*x + np.cos(3*y) - y**2 + 12*y + np.tan(2*z) - z*2 + 8*z\n",
    "\n",
    "start_time =  time.perf_counter()\n",
    "\n",
    "max_value = -np.inf\n",
    "\n",
    "count = 0\n",
    "for i in range(1, 10000):\n",
    "    x_value = np.random.uniform(0, 10)\n",
    "    y_value = np.random.uniform(0, 10)\n",
    "    z_value = np.random.uniform(0, 10)\n",
    "\n",
    "    value = d3_obj_function(x_value, y_value, z_value)\n",
    "    if value > max_value:\n",
    "        count += 1\n",
    "        max_value = value\n",
    "        parameters = [x_value, y_value, z_value]\n",
    "\n",
    "total_time = time.perf_count() - start_time\n",
    "print(parameters)"
   ]
  }
 ],
 "metadata": {
  "kernelspec": {
   "display_name": "optimization",
   "language": "python",
   "name": "python3"
  },
  "language_info": {
   "codemirror_mode": {
    "name": "ipython",
    "version": 3
   },
   "file_extension": ".py",
   "mimetype": "text/x-python",
   "name": "python",
   "nbconvert_exporter": "python",
   "pygments_lexer": "ipython3",
   "version": "3.12.3"
  }
 },
 "nbformat": 4,
 "nbformat_minor": 2
}
