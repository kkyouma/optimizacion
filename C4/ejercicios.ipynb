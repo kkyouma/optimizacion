{
 "cells": [
  {
   "cell_type": "code",
   "execution_count": 4,
   "metadata": {},
   "outputs": [],
   "source": [
    "from sympy import symbols, diff, Matrix, solve, hessian, init_printing, pprint, print_latex, var"
   ]
  },
  {
   "cell_type": "markdown",
   "metadata": {},
   "source": [
    "## Ejercicio 1"
   ]
  },
  {
   "cell_type": "code",
   "execution_count": 54,
   "metadata": {},
   "outputs": [
    {
     "name": "stdout",
     "output_type": "stream",
     "text": [
      "El punto (-2, -1) es un máximo local.\n",
      "El punto (-1, -2) es un punto de silla.\n",
      "El punto (1, 2) es un punto de silla.\n",
      "El punto (2, 1) es un mínimo local.\n"
     ]
    },
    {
     "data": {
      "image/png": "[encoded data removed]",
      "text/latex": [
       "$\\displaystyle \\left[ \\left( -2, \\  -1\\right), \\  \\left( -1, \\  -2\\right), \\  \\left( 1, \\  2\\right), \\  \\left( 2, \\  1\\right)\\right]$"
      ],
      "text/plain": [
       "[(-2, -1), (-1, -2), (1, 2), (2, 1)]"
      ]
     },
     "metadata": {},
     "output_type": "display_data"
    }
   ],
   "source": [
    "x, y = symbols(\"x y\")\n",
    "\n",
    "# Se define la función f(x, y) que queremos analizar\n",
    "f = x**3 + 3*x*y**2 - 15*x - 12*y\n",
    "\n",
    "# Calculamos la matriz hessiana de la función f\n",
    "H = hessian(f, (x,y))\n",
    "\n",
    "# Calculamos las derivadas parciales de primer orden de la función f\n",
    "fx = diff(f, x)\n",
    "fy = diff(f, y)\n",
    "\n",
    "# Encontramos los puntos críticos igualando las derivadas parciales a cero\n",
    "critical_points = solve([fx, fy], (x, y))\n",
    "\n",
    "# Evaluando los puntos críticos\n",
    "if not critical_points:\n",
    "    print(\"No se encontraron puntos críticos\")\n",
    "else:\n",
    "    for point in critical_points:\n",
    "        fxx = diff(fx, x).subs({x: point[0], y: point[1]})\n",
    "        fyy = diff(fy, y).subs({x: point[0], y: point[1]})\n",
    "        fxy = diff(fx, y).subs({x: point[0], y: point[1]})\n",
    "        \n",
    "        determinant = fxx*fyy - fxy**2\n",
    "        \n",
    "        if determinant > 0 and fxx > 0:\n",
    "            print(f\"El punto {point} es un mínimo local.\")\n",
    "        elif determinant > 0 and fxx < 0:\n",
    "            print(f\"El punto {point} es un máximo local.\")\n",
    "        elif determinant < 0:\n",
    "            print(f\"El punto {point} es un punto de silla.\")\n",
    "        else:\n",
    "            print(f\"No se puede determinar la naturaleza del punto {point}.\")\n",
    "            \n",
    "display(critical_points)\n"
   ]
  },
  {
   "cell_type": "code",
   "execution_count": 55,
   "metadata": {},
   "outputs": [
    {
     "name": "stdout",
     "output_type": "stream",
     "text": [
      "Resultado para el punto (-2, -1) es 28\n",
      "Resultado para el punto (-1, -2) es 26\n",
      "Resultado para el punto (1, 2) es -26\n",
      "Resultado para el punto (2, 1) es -28\n"
     ]
    }
   ],
   "source": [
    "for point in critical_points:\n",
    "    x = point[0]\n",
    "    y = point[1]\n",
    "    result = x**3 + 3*x*y**2 - 15*x - 12*y\n",
    "    print(f\"Resultado para el punto {point} es {result}\")"
   ]
  },
  {
   "cell_type": "markdown",
   "metadata": {},
   "source": [
    "## Ejercicio 2"
   ]
  },
  {
   "cell_type": "code",
   "execution_count": 7,
   "metadata": {},
   "outputs": [
    {
     "data": {
      "text/plain": [
       "{x: -2/3, y: -1/3, z: 1/2}"
      ]
     },
     "metadata": {},
     "output_type": "display_data"
    },
    {
     "ename": "TypeError",
     "evalue": "'Symbol' object is not subscriptable",
     "output_type": "error",
     "traceback": [
      "\u001b[1;31m---------------------------------------------------------------------------\u001b[0m",
      "\u001b[1;31mTypeError\u001b[0m                                 Traceback (most recent call last)",
      "Cell \u001b[1;32mIn[7], line 22\u001b[0m\n\u001b[0;32m     20\u001b[0m \u001b[38;5;28;01melse\u001b[39;00m:  \u001b[38;5;66;03m# Si es una tupla, no es necesario modificarlo\u001b[39;00m\n\u001b[0;32m     21\u001b[0m     point_values \u001b[38;5;241m=\u001b[39m point\n\u001b[1;32m---> 22\u001b[0m     H_point \u001b[38;5;241m=\u001b[39m H\u001b[38;5;241m.\u001b[39msubs({x: \u001b[43mpoint\u001b[49m\u001b[43m[\u001b[49m\u001b[38;5;241;43m0\u001b[39;49m\u001b[43m]\u001b[49m, y: point[\u001b[38;5;241m1\u001b[39m], z: point[\u001b[38;5;241m2\u001b[39m]})\n\u001b[0;32m     23\u001b[0m     determinant \u001b[38;5;241m=\u001b[39m H_point\u001b[38;5;241m.\u001b[39mdet()\n\u001b[0;32m     25\u001b[0m     \u001b[38;5;28;01mif\u001b[39;00m determinant \u001b[38;5;241m>\u001b[39m \u001b[38;5;241m0\u001b[39m \u001b[38;5;129;01mand\u001b[39;00m H_point[\u001b[38;5;241m0\u001b[39m] \u001b[38;5;241m>\u001b[39m \u001b[38;5;241m0\u001b[39m:\n",
      "\u001b[1;31mTypeError\u001b[0m: 'Symbol' object is not subscriptable"
     ]
    }
   ],
   "source": [
    "x, y, z = var(\"x y z\")\n",
    "\n",
    "f = x**2 + y**2 + z**2 + x - x * y - z\n",
    "\n",
    "H = hessian(f, (x, y, z))\n",
    "\n",
    "fx = diff(f, x)\n",
    "fy = diff(f, y)\n",
    "fz = diff(f, z)\n",
    "\n",
    "critical_points = solve([fx, fy, fz], [x, y, z])\n",
    "\n",
    "display(critical_points)\n"
   ]
  },
  {
   "cell_type": "code",
   "execution_count": null,
   "metadata": {},
   "outputs": [],
   "source": [
    "\n",
    "if not critical_points:\n",
    "    print(\"No se encontraron puntos críticos\")\n",
    "for point in critical_points:\n",
    "    if isinstance(point, dict):  # Verificar si es un diccionario\n",
    "        point_values = tuple(point[var] for var in (x, y, z))\n",
    "    else:  # Si es una tupla, no es necesario modificarlo\n",
    "        point_values = point\n",
    "        H_point = H.subs({x: point[0], y: point[1], z: point[2]})\n",
    "        determinant = H_point.det()\n",
    "        \n",
    "        if determinant > 0 and H_point[0] > 0:\n",
    "            print(f\"El punto {point} es un mínimo local\")\n",
    "        elif determinant > 0 and H_point[0] < 0:\n",
    "            print(f\"El punto {point} es un máximo local\")\n",
    "        elif determinant < 0:\n",
    "            print(f\"El punto {point} es un punto de silla\")\n",
    "        else:\n",
    "            print(f\"No se puedo determinar la naturaleza de {point}\")"
   ]
  }
 ],
 "metadata": {
  "kernelspec": {
   "display_name": "optimization",
   "language": "python",
   "name": "python3"
  },
  "language_info": {
   "codemirror_mode": {
    "name": "ipython",
    "version": 3
   },
   "file_extension": ".py",
   "mimetype": "text/x-python",
   "name": "python",
   "nbconvert_exporter": "python",
   "pygments_lexer": "ipython3",
   "version": "3.12.3"
  }
 },
 "nbformat": 4,
 "nbformat_minor": 2
}
