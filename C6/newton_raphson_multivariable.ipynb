{
 "cells": [
  {
   "cell_type": "code",
   "execution_count": 1,
   "metadata": {},
   "outputs": [],
   "source": [
    "import numpy as np\n",
    "import sympy as sp"
   ]
  },
  {
   "cell_type": "code",
   "execution_count": 2,
   "metadata": {},
   "outputs": [],
   "source": [
    "(x, y, z, v, w) = sp.symbols(\"x, y, z, v, w\")\n",
    "\n",
    "\n",
    "# def f2(x, y, z, v, w):\n",
    "#     return (\n",
    "#         2 * (v - 3 * z) ** 3\n",
    "#         + 15 * w**2\n",
    "#         + 0.3 * x**2\n",
    "#         + 2 * y**2\n",
    "#         - 6 * v**3\n",
    "#         - 2 * z**2\n",
    "#         + 0.5 * w**2\n",
    "#         + 18 * w\n",
    "#     )\n",
    "    \n",
    "# def f2 (x, y): \n",
    "#     return 3* x**2 + 2 * y **2 + x + 10\n",
    "\n",
    "# def ev_point_gradient(point, gradient):\n",
    "#     return [g.subs(point) for g in gradient]\n",
    "\n",
    "# def ev_point_hessian(point, hessian):\n",
    "#     return hessian.subs(point)\n",
    "\n",
    "# def newton_method(objective_func, initial_point, tol=1e-10, max_iter=1000):\n",
    "#     variables = list(initial_point.keys())\n",
    "#     expression = objective_func(*variables)\n",
    "#     gradient = [sp.diff(expression, var) for var in variables]\n",
    "#     hessian = sp.hessian(expression, variables)\n",
    "\n",
    "#     previous_value = float('inf')\n",
    "#     current_point = initial_point.copy()\n",
    "\n",
    "#     for _ in range(1, max_iter):\n",
    "#         current_value = float(expression.subs(current_point).evalf())\n",
    "        \n",
    "#         if abs(previous_value - current_value) < tol:\n",
    "#             print(f\"Convergencia: valor de la función = {current_value:.4f}\")\n",
    "#             print(f\"Punto: {current_point}\")\n",
    "#             break\n",
    "\n",
    "#         previous_value = current_value\n",
    "#         gradient_values = np.array(ev_point_gradient(current_point, gradient))\n",
    "#         hessian_values = np.array(ev_point_hessian(current_point, hessian))\n",
    "\n",
    "#         if np.linalg.det(hessian_values) == 0:\n",
    "#             print(\"La matriz Hessiana no es invertible.\")\n",
    "#             break\n",
    "\n",
    "#         hessian_inverse = np.linalg.inv(hessian_values)\n",
    "#         delta = hessian_inverse @ gradient_values\n",
    "\n",
    "#         for j, key in enumerate(current_point.keys()):\n",
    "#             current_point[key] -= delta[j]\n",
    "\n",
    "#     return current_point, current_value\n",
    "\n",
    "# initial_point = {x: 0, y: 1}\n",
    "# optimal_point, optimal_value = newton_method(f2, initial_point)\n",
    "# print(f\"Punto óptimo: {optimal_point}\")\n",
    "# print(f\"Valor óptimo de la función: {optimal_value:.4f}\")\n"
   ]
  },
  {
   "cell_type": "code",
   "execution_count": 3,
   "metadata": {},
   "outputs": [
    {
     "name": "stdout",
     "output_type": "stream",
     "text": [
      "Finished: 9.91666666666667\n",
      "Iteracion: 3\n",
      "Point [-0.166666666666667 0]\n"
     ]
    }
   ],
   "source": [
    "variables = (x, y)\n",
    "tol = 0.01\n",
    "max_iter = 100\n",
    "# LA CANTIDAD DE VARIABLES SIMBOLICAS Y VALORES DEBEN SER LOS MISMOS    \n",
    "nofrand = 10\n",
    "initial_bounds = (-10000000, 10000000)\n",
    "\n",
    "f = lambda x, y: 3 * x**2 + 2 * y**2 + x + 10\n",
    "\n",
    "# El ultimo parametro indica cuantos valores se quieren generar en el array, es mejor que declarar las variables una por una\n",
    "random_point = np.random.uniform(*initial_bounds, 2)\n",
    "\n",
    "expresion = f(*variables)\n",
    "grad = [sp.diff(expresion, var) for var in variables]\n",
    "H = sp.hessian(expresion, variables)\n",
    "\n",
    "previous_value = 1e9\n",
    "count = 0\n",
    "for i in range(max_iter):\n",
    "\n",
    "    count += 1\n",
    "\n",
    "    J = [g.subs(zip(variables, random_point)) for g in grad]\n",
    "    H_eval = H.subs(zip(variables, random_point))\n",
    "\n",
    "    current_value = f(*random_point)\n",
    "    if abs(previous_value - current_value) < tol:\n",
    "        print(f\"Finished: {current_value}\")\n",
    "        print(f\"Iteracion: {count}\\nPoint {random_point}\")\n",
    "        break\n",
    "    previous_value = current_value\n",
    "\n",
    "    H_eval = H.subs(zip(variables, random_point))\n",
    "    H_eval = np.array(H_eval, dtype=\"float\")  # Convierte la expresión en números\n",
    "    H_inv = np.linalg.inv(H_eval)\n",
    "    new_point = random_point - H_inv @ J  # producto escalar\n",
    "\n",
    "    random_point = new_point"
   ]
  },
  {
   "cell_type": "code",
   "execution_count": null,
   "metadata": {},
   "outputs": [],
   "source": []
  }
 ],
 "metadata": {
  "kernelspec": {
   "display_name": "optimization",
   "language": "python",
   "name": "python3"
  },
  "language_info": {
   "codemirror_mode": {
    "name": "ipython",
    "version": 3
   },
   "file_extension": ".py",
   "mimetype": "text/x-python",
   "name": "python",
   "nbconvert_exporter": "python",
   "pygments_lexer": "ipython3",
   "version": "3.12.3"
  }
 },
 "nbformat": 4,
 "nbformat_minor": 2
}
