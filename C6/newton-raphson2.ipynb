{
 "cells": [
  {
   "cell_type": "code",
   "execution_count": 1,
   "metadata": {},
   "outputs": [],
   "source": [
    "import numpy as np\n",
    "import sympy as sp"
   ]
  },
  {
   "cell_type": "code",
   "execution_count": 2,
   "metadata": {},
   "outputs": [
    {
     "name": "stdout",
     "output_type": "stream",
     "text": [
      "Convergencia: valor de la función = -5.2258\n",
      "Punto: {x: 0.0, y: 0.0, z: 7.037492727466144e-12, v: -0.00011303554427715261, w: -0.5806451612903226}\n",
      "Punto óptimo: {x: 0.0, y: 0.0, z: 7.037492727466144e-12, v: -0.00011303554427715261, w: -0.5806451612903226}\n",
      "Valor óptimo de la función: -5.2258\n"
     ]
    }
   ],
   "source": [
    "import sympy as sp\n",
    "import numpy as np\n",
    "\n",
    "(x, y, z, v, w) = sp.symbols(\"x, y, z, v, w\")\n",
    "\n",
    "def f2(x, y, z, v, w):\n",
    "    return (\n",
    "        2 * (v - 3 * z) ** 3\n",
    "        + 15 * w**2\n",
    "        + 0.3 * x**2\n",
    "        + 2 * y**2\n",
    "        - 6 * v**3\n",
    "        - 2 * z**2\n",
    "        + 0.5 * w**2\n",
    "        + 18 * w\n",
    "    )\n",
    "\n",
    "def compute_gradient_and_hessian(expression, variables):\n",
    "    gradient = [sp.diff(expression, var) for var in variables]\n",
    "    hessian = sp.hessian(expression, variables)\n",
    "    return gradient, hessian\n",
    "\n",
    "def ev_point_gradient(point, gradient):\n",
    "    return [g.subs(point) for g in gradient]\n",
    "\n",
    "def ev_point_hessian(point, hessian):\n",
    "    return hessian.subs(point)\n",
    "\n",
    "def newton_method(objective_func, initial_point, tol=1e-10, max_iter=1000):\n",
    "    variables = list(initial_point.keys())\n",
    "    expression = objective_func(*variables)\n",
    "    gradient, hessian = compute_gradient_and_hessian(expression, variables)\n",
    "\n",
    "    previous_value = float('inf')\n",
    "    current_point = initial_point.copy()\n",
    "\n",
    "    for _ in range(1, max_iter):\n",
    "        current_value = float(expression.subs(current_point).evalf())\n",
    "        if abs(previous_value - current_value) < tol:\n",
    "            print(f\"Convergencia: valor de la función = {current_value:.4f}\")\n",
    "            print(f\"Punto: {current_point}\")\n",
    "            break\n",
    "\n",
    "        previous_value = current_value\n",
    "        gradient_values = np.array(ev_point_gradient(current_point, gradient)).astype(np.float64)\n",
    "        hessian_values = np.array(ev_point_hessian(current_point, hessian)).astype(np.float64)\n",
    "\n",
    "        if np.linalg.det(hessian_values) == 0:\n",
    "            print(\"La matriz Hessiana no es invertible.\")\n",
    "            break\n",
    "\n",
    "        hessian_inverse = np.linalg.inv(hessian_values)\n",
    "        delta = hessian_inverse @ gradient_values\n",
    "\n",
    "        for j, key in enumerate(current_point.keys()):\n",
    "            current_point[key] -= delta[j]\n",
    "\n",
    "    return current_point, current_value\n",
    "\n",
    "# Ejemplo de uso\n",
    "initial_point = {x: 2, y: 1, z: 4, v: 0, w: 1}\n",
    "optimal_point, optimal_value = newton_method(f2, initial_point)\n",
    "print(f\"Punto óptimo: {optimal_point}\")\n",
    "print(f\"Valor óptimo de la función: {optimal_value:.4f}\")\n",
    "\n"
   ]
  },
  {
   "cell_type": "code",
   "execution_count": 3,
   "metadata": {},
   "outputs": [
    {
     "name": "stdout",
     "output_type": "stream",
     "text": [
      "Convergencia: valor de la función = 9.9167\n",
      "Punto: {x: -0.16666666666666666, y: 0.0}\n"
     ]
    },
    {
     "data": {
      "text/plain": [
       "({x: -0.16666666666666666, y: 0.0}, 9.916666666666668)"
      ]
     },
     "execution_count": 3,
     "metadata": {},
     "output_type": "execute_result"
    }
   ],
   "source": [
    "def f(x, y):\n",
    "    return 3 * x**2 + 2 * y**2 + x + 10\n",
    "\n",
    "newton_method(\n",
    "    f, {x: 2, y:1}\n",
    ")\n"
   ]
  },
  {
   "cell_type": "code",
   "execution_count": 4,
   "metadata": {},
   "outputs": [
    {
     "name": "stdout",
     "output_type": "stream",
     "text": [
      "Convergencia: valor de la función = -5.2258\n",
      "Punto: {x: 0.0, y: 0.0, z: 1.6035204428158793e-14, v: -5.651776688450809e-05, w: -0.5806451612903226}\n"
     ]
    },
    {
     "data": {
      "text/plain": [
       "({x: 0.0,\n",
       "  y: 0.0,\n",
       "  z: 1.6035204428158793e-14,\n",
       "  v: -5.651776688450809e-05,\n",
       "  w: -0.5806451612903226},\n",
       " -5.225806451612182)"
      ]
     },
     "execution_count": 4,
     "metadata": {},
     "output_type": "execute_result"
    }
   ],
   "source": [
    "\n",
    "def f2(x, y, z, v, w):\n",
    "    return (\n",
    "        2 * (v - 3 * z) ** 3\n",
    "        + 15 * w**2\n",
    "        + 0.3 * x**2\n",
    "        + 2 * y**2\n",
    "        - 6 * v**3\n",
    "        - 2 * z**2\n",
    "        + 0.5 * w**2\n",
    "        + 18 * w\n",
    "    )\n",
    "\n",
    "\n",
    "newton_method(f2, initial_point, tol=0.00000000001, )"
   ]
  }
 ],
 "metadata": {
  "kernelspec": {
   "display_name": "optimization",
   "language": "python",
   "name": "python3"
  },
  "language_info": {
   "codemirror_mode": {
    "name": "ipython",
    "version": 3
   },
   "file_extension": ".py",
   "mimetype": "text/x-python",
   "name": "python",
   "nbconvert_exporter": "python",
   "pygments_lexer": "ipython3",
   "version": "3.12.3"
  }
 },
 "nbformat": 4,
 "nbformat_minor": 2
}
