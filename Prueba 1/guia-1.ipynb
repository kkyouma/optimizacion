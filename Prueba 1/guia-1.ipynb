{
 "cells": [
  {
   "cell_type": "markdown",
   "metadata": {},
   "source": [
    "## Parte 1: Programacion lineal"
   ]
  },
  {
   "cell_type": "markdown",
   "metadata": {},
   "source": [
    "### Problema 1\n",
    "Un vendedor dispone de 9 días para visitar tres ciudades: A, B y\n",
    "C. Las ventas que consiga realizar en cada ciudad dependen\n",
    "del número de días que pueda permanecer en cada una de\n",
    "ellas, según una relación decreciente mostrada en la Tabla 1.\n",
    "Permanecer un día en la ciudad A puede generar $30 en\n",
    "ventas; dos días en A serían los $30 más $20 adicionales, etc.\n",
    "Además, el número máximo de días que el vendedor puede\n",
    "permanecer en una ciudad es cuatro. Se debe tener en cuenta\n",
    "que una vez que el vendedor deja una ciudad, no puede volver a ella.\n",
    "Formule el modelo que permita al vendedor determinar cuántos días pasar en cada\n",
    "ciudad, de manera de maximizar las ventas estimadas"
   ]
  },
  {
   "cell_type": "markdown",
   "metadata": {},
   "source": [
    "### Que se desea?\n",
    "- Maximizar\n",
    "### De que se habla?\n",
    "- Ciudades\n",
    "- Dinero\n",
    "### Que se restringe\n",
    "- Dias: 9\n",
    "  - $x_A$ < 4\n",
    "  - $x_B$ < 4\n",
    "  - $x_C$ < 4\n",
    "\n",
    "\n",
    "## Variables\n",
    "$x_{ij}$: Si se pasa o no la cantidad $i$ cantidad de dias en la ciudad $j$"
   ]
  },
  {
   "cell_type": "code",
   "execution_count": 1,
   "metadata": {},
   "outputs": [],
   "source": [
    "import pandas as pd\n",
    "import numpy as np\n",
    "import matplotlib.pyplot as plt\n",
    "import time"
   ]
  },
  {
   "cell_type": "code",
   "execution_count": 5,
   "metadata": {},
   "outputs": [],
   "source": [
    "def restriccion1():\n",
    "    return None"
   ]
  },
  {
   "cell_type": "markdown",
   "metadata": {},
   "source": [
    "## Parte 2: Busqueda exhaustiva"
   ]
  },
  {
   "cell_type": "code",
   "execution_count": 21,
   "metadata": {},
   "outputs": [
    {
     "name": "stdout",
     "output_type": "stream",
     "text": [
      "El mayor beneficio se encuentra en x =  25.00, con  1375.00 de beneficio\n"
     ]
    },
    {
     "data": {
      "image/png": "[encoded data removed]",
      "text/plain": [
       "<Figure size 640x480 with 1 Axes>"
      ]
     },
     "metadata": {},
     "output_type": "display_data"
    }
   ],
   "source": [
    "def obj_function(x):\n",
    "    return 1000 + 30 * x - 0.6*x**2\n",
    "\n",
    "X = np.linspace(0, 100, 1001)\n",
    "Y = obj_function(X)\n",
    "\n",
    "max_value = -np.Inf\n",
    "\n",
    "for x_value in X:\n",
    "    y_value = obj_function(x_value)\n",
    "    if y_value > max_value:\n",
    "        max_value = y_value\n",
    "        parameters = [x_value, y_value]\n",
    "        \n",
    "print(f\"El mayor beneficio se encuentra en x = {parameters[0]: .2f}, con {parameters[1]: .2f} de beneficio\")\n",
    "\n",
    "plt.figure()\n",
    "plt.plot(X, Y)\n",
    "plt.scatter(parameters[0], parameters[1], color=\"red\")\n",
    "plt.grid()"
   ]
  },
  {
   "cell_type": "markdown",
   "metadata": {},
   "source": [
    "### Problema 2"
   ]
  },
  {
   "cell_type": "code",
   "execution_count": 14,
   "metadata": {},
   "outputs": [
    {
     "data": {
      "text/plain": [
       "'La solucion optima se encuentra en $x$ =  50.00 para una ganancia de  2250.00'"
      ]
     },
     "metadata": {},
     "output_type": "display_data"
    },
    {
     "data": {
      "text/html": [
       "<div>\n",
       "<style scoped>\n",
       "    .dataframe tbody tr th:only-of-type {\n",
       "        vertical-align: middle;\n",
       "    }\n",
       "\n",
       "    .dataframe tbody tr th {\n",
       "        vertical-align: top;\n",
       "    }\n",
       "\n",
       "    .dataframe thead th {\n",
       "        text-align: right;\n",
       "    }\n",
       "</style>\n",
       "<table border=\"1\" class=\"dataframe\">\n",
       "  <thead>\n",
       "    <tr style=\"text-align: right;\">\n",
       "      <th></th>\n",
       "      <th>Iterations</th>\n",
       "      <th>Time</th>\n",
       "    </tr>\n",
       "  </thead>\n",
       "  <tbody>\n",
       "    <tr>\n",
       "      <th>0</th>\n",
       "      <td>100</td>\n",
       "      <td>0.000139</td>\n",
       "    </tr>\n",
       "    <tr>\n",
       "      <th>1</th>\n",
       "      <td>200</td>\n",
       "      <td>0.000127</td>\n",
       "    </tr>\n",
       "    <tr>\n",
       "      <th>2</th>\n",
       "      <td>500</td>\n",
       "      <td>0.000288</td>\n",
       "    </tr>\n",
       "    <tr>\n",
       "      <th>3</th>\n",
       "      <td>1000</td>\n",
       "      <td>0.000541</td>\n",
       "    </tr>\n",
       "    <tr>\n",
       "      <th>4</th>\n",
       "      <td>10000</td>\n",
       "      <td>0.005150</td>\n",
       "    </tr>\n",
       "    <tr>\n",
       "      <th>5</th>\n",
       "      <td>100000</td>\n",
       "      <td>0.052015</td>\n",
       "    </tr>\n",
       "    <tr>\n",
       "      <th>6</th>\n",
       "      <td>1000000</td>\n",
       "      <td>0.529692</td>\n",
       "    </tr>\n",
       "  </tbody>\n",
       "</table>\n",
       "</div>"
      ],
      "text/plain": [
       "   Iterations      Time\n",
       "0         100  0.000139\n",
       "1         200  0.000127\n",
       "2         500  0.000288\n",
       "3        1000  0.000541\n",
       "4       10000  0.005150\n",
       "5      100000  0.052015\n",
       "6     1000000  0.529692"
      ]
     },
     "execution_count": 14,
     "metadata": {},
     "output_type": "execute_result"
    }
   ],
   "source": [
    "def obj_function2(x):\n",
    "    return 90 * x - 0.9 * x**2\n",
    "\n",
    "\n",
    "def find_optimitation(itreations):\n",
    "    X2 = np.linspace(0, 1000, iterations)\n",
    "\n",
    "    max_value = -np.inf\n",
    "    for x_value in X2:\n",
    "        y_value = obj_function2(x_value)\n",
    "        if y_value > max_value:\n",
    "            max_value = y_value\n",
    "            parameters = [x_value, y_value]\n",
    "    return parameters\n",
    "\n",
    "\n",
    "if __name__ == \"__main__\":\n",
    "    all_iterations = [100, 200, 500, 1000, 10000, 100000, 1000000]\n",
    "    list_time = []\n",
    "    parameters = []\n",
    "    for iterations in all_iterations:\n",
    "        start_time = time.perf_counter()\n",
    "        parameters = find_optimitation(iterations)\n",
    "        end_time = time.perf_counter() - start_time\n",
    "        list_time.append(end_time)\n",
    "        \n",
    "print (f\"La solucion optima se encuentra en x = {parameters[0]: .2f} para una ganancia de {parameters[1]: .2f}\")\n",
    "pd.DataFrame({\"Iterations\": all_iterations, \"Time\": list_time})"
   ]
  }
 ],
 "metadata": {
  "kernelspec": {
   "display_name": "OPTIMIZATION",
   "language": "python",
   "name": "python3"
  },
  "language_info": {
   "codemirror_mode": {
    "name": "ipython",
    "version": 3
   },
   "file_extension": ".py",
   "mimetype": "text/x-python",
   "name": "python",
   "nbconvert_exporter": "python",
   "pygments_lexer": "ipython3",
   "version": "3.12.3"
  }
 },
 "nbformat": 4,
 "nbformat_minor": 2
}
