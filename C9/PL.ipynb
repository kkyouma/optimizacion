{
 "cells": [
  {
   "cell_type": "markdown",
   "metadata": {},
   "source": [
    "# Programacion lineal con PuLP"
   ]
  },
  {
   "cell_type": "code",
   "execution_count": 1,
   "metadata": {},
   "outputs": [],
   "source": [
    "import pulp as p"
   ]
  },
  {
   "cell_type": "markdown",
   "metadata": {},
   "source": [
    "## Problemas simples"
   ]
  },
  {
   "cell_type": "markdown",
   "metadata": {},
   "source": [
    "Maximize profit:\n",
    "\n",
    "A company produces two different products of wood: chairs and tables.\n",
    "\n",
    "- The profit per chair is $20 and $30 per table.\n",
    "- A chair requires 1 hr of finishing labor and 2 for carpentry\n",
    "- A table requires 2 hrs of finishing labor and 1 for carpentry\n",
    "- The available time for finishing and carpentry labors are\n",
    "100 hrs each.\n"
   ]
  },
  {
   "cell_type": "code",
   "execution_count": 2,
   "metadata": {},
   "outputs": [
    {
     "name": "stdout",
     "output_type": "stream",
     "text": [
      "Optimal\n",
      "Production of chairs: 32.0\n",
      "Production of chairs: 34.0\n",
      "1660.0\n"
     ]
    }
   ],
   "source": [
    "prob = p.LpProblem(\"Maximize_profit\", p.LpMaximize)\n",
    "\n",
    "# Variables\n",
    "A = p.LpVariable(\"A\", lowBound=0, cat=\"Integer\")\n",
    "B = p.LpVariable(\"B\", lowBound=0, cat=\"Integer\")\n",
    "\n",
    "# Funcion objetivo\n",
    "prob += A * 20 + B * 30, \"Profit\"\n",
    "\n",
    "# Restricciones\n",
    "prob += A + B * 2 <= 100, \"time_limit1\"\n",
    "prob += A * 2 + B <= 100, \"time_limit2\"\n",
    "\n",
    "prob.solve()\n",
    "print(p.LpStatus[prob.status])\n",
    "\n",
    "print(f\"Production of chairs: {A.varValue}\")\n",
    "print(f\"Production of chairs: {B.varValue}\")\n",
    "\n",
    "# Print objective function value\n",
    "\n",
    "print(p.value(prob.objective))"
   ]
  },
  {
   "cell_type": "markdown",
   "metadata": {},
   "source": [
    "## Planificacion de produccion"
   ]
  },
  {
   "cell_type": "code",
   "execution_count": 3,
   "metadata": {},
   "outputs": [
    {
     "name": "stdout",
     "output_type": "stream",
     "text": [
      "Solution Status =  Optimal\n",
      "Inventory_0 = 3.0\n",
      "Inventory_1 = 23.0\n",
      "Inventory_2 = 70.0\n",
      "Inventory_3 = 40.0\n",
      "Inventory_4 = 20.0\n",
      "O_Labor_Used_2 = 17.0\n",
      "O_Labor_Used_4 = 30.0\n",
      "O_Labor_Used_5 = 30.0\n",
      "Quantity_Produced_1 = 120.0\n",
      "Quantity_Produced_2 = 147.0\n",
      "Quantity_Produced_3 = 120.0\n",
      "Quantity_Produced_4 = 180.0\n",
      "Quantity_Produced_5 = 130.0\n",
      "Quantity_Produced_6 = 100.0\n",
      "R_Labor_Used_1 = 120.0\n",
      "R_Labor_Used_2 = 130.0\n",
      "R_Labor_Used_3 = 120.0\n",
      "R_Labor_Used_4 = 150.0\n",
      "R_Labor_Used_5 = 100.0\n",
      "R_Labor_Used_6 = 100.0\n"
     ]
    }
   ],
   "source": [
    "# List (Time Periods)\n",
    "t = [0, 1, 2, 3, 4, 5, 6]\n",
    "\n",
    "# DATA\n",
    "demand = {1:100, 2:100, 3:150, 4:200, 5:150, 6:100} # Demand data\n",
    "UPC = {1:7, 2:8, 3:8, 4:8, 5:7, 6:8} # Unit Production Cost (Excluding Labor)\n",
    "UHC = {1:3, 2:4, 3:4, 4:4, 5:3, 6:2} # Unit Holding Cost\n",
    "URLC = {1:15, 2:15, 3:18, 4:18, 5:15, 6:15} # Unit Regular Labor Cost\n",
    "UOLC = {1:22.5, 2:22.5, 3:27, 4:27, 5:22.5, 6:22.5} # Unit Overtime Labor Cost\n",
    "R_MH = {1:120, 2:130, 3:120, 4:150, 5:100, 6:100} # Available Man-hours R (Regular time) Labor\n",
    "O_MH = {1:30, 2:40, 3:40, 4:30, 5:30, 6:30} # Available Man-hours O (Overtime) Labor\n",
    "\n",
    "# Setting problem\n",
    "prob = p.LpProblem(\"Aggregate_Production\", p.LpMinimize)\n",
    "\n",
    "# Desicion Variables\n",
    "Xt = p.LpVariable.dicts(\"Quantity_Produced\", t, 0)\n",
    "It = p.LpVariable.dicts(\"Inventory\", t, 0)\n",
    "Rt = p.LpVariable.dicts(\"R_Labor_Used\", t, 0)\n",
    "Ot = p.LpVariable.dicts(\"O_Labor_Used\", t, 0)\n",
    "\n",
    "# Objective Function\n",
    "prob += p.lpSum(UPC[i]*Xt[i] for i in t[1:])+p.lpSum(UHC[i]*It[i] for i in t[1:])+p.lpSum(URLC[i]*Rt[i] for i\n",
    "in t[1:])+p.lpSum(UOLC[i]*Ot[i] for i in t[1:])\n",
    "\n",
    "\n",
    "# Restricciones\n",
    "initial_inventory = 3\n",
    "prob += It[0] == initial_inventory\n",
    "\n",
    "for i in t[1:]:\n",
    "    prob += (Xt[i] + It[i-1] - It[i]) == demand[i]\n",
    "for i in t[1:]:\n",
    "    prob += Xt[i] - Rt[i] - Ot[i] == 0\n",
    "for i in t[1:]:\n",
    "    prob += Rt[i] <= R_MH[i]\n",
    "for i in t[1:]:\n",
    "    prob += Ot[i] <= O_MH[i] \n",
    "    \n",
    "prob.solve()\n",
    "print(\"Solution Status = \", p.LpStatus[prob.status])\n",
    "# Print the solution of the Decision Variables\n",
    "for v in prob.variables():\n",
    "    if v.varValue>0:\n",
    "        print(v.name, \"=\", v.varValue)"
   ]
  },
  {
   "cell_type": "code",
   "execution_count": 4,
   "metadata": {},
   "outputs": [],
   "source": [
    "import pandas as pd"
   ]
  },
  {
   "cell_type": "code",
   "execution_count": 5,
   "metadata": {},
   "outputs": [],
   "source": [
    "demand = pd.read_csv(\"monthly_demand.csv\")\n",
    "factories = pd.read_csv(\"factory_variables.csv\")"
   ]
  },
  {
   "cell_type": "code",
   "execution_count": 6,
   "metadata": {},
   "outputs": [
    {
     "ename": "TypeError",
     "evalue": "LpVariable.__init__() got multiple values for argument 'lowBound'",
     "output_type": "error",
     "traceback": [
      "\u001b[1;31m---------------------------------------------------------------------------\u001b[0m",
      "\u001b[1;31mTypeError\u001b[0m                                 Traceback (most recent call last)",
      "Cell \u001b[1;32mIn[6], line 8\u001b[0m\n\u001b[0;32m      5\u001b[0m x1 \u001b[38;5;241m=\u001b[39m p\u001b[38;5;241m.\u001b[39mLpVariable\u001b[38;5;241m.\u001b[39mdicts(\u001b[38;5;124m\"\u001b[39m\u001b[38;5;124mFabrica_1\u001b[39m\u001b[38;5;124m\"\u001b[39m, months, lowBound\u001b[38;5;241m=\u001b[39m\u001b[38;5;241m0\u001b[39m)\n\u001b[0;32m      6\u001b[0m x2 \u001b[38;5;241m=\u001b[39m p\u001b[38;5;241m.\u001b[39mLpVariable\u001b[38;5;241m.\u001b[39mdicts(\u001b[38;5;124m\"\u001b[39m\u001b[38;5;124mFabrica_2\u001b[39m\u001b[38;5;124m\"\u001b[39m, months, lowBound\u001b[38;5;241m=\u001b[39m\u001b[38;5;241m0\u001b[39m)\n\u001b[1;32m----> 8\u001b[0m Fs_A \u001b[38;5;241m=\u001b[39m \u001b[43mp\u001b[49m\u001b[38;5;241;43m.\u001b[39;49m\u001b[43mLpVariable\u001b[49m\u001b[43m(\u001b[49m\u001b[38;5;124;43m\"\u001b[39;49m\u001b[38;5;124;43mEstado_Fabrica_A\u001b[39;49m\u001b[38;5;124;43m\"\u001b[39;49m\u001b[43m,\u001b[49m\u001b[43m \u001b[49m\u001b[43mmonths\u001b[49m\u001b[43m,\u001b[49m\u001b[43m \u001b[49m\u001b[43mcat\u001b[49m\u001b[38;5;241;43m=\u001b[39;49m\u001b[38;5;124;43m\"\u001b[39;49m\u001b[38;5;124;43mBinary\u001b[39;49m\u001b[38;5;124;43m\"\u001b[39;49m\u001b[43m,\u001b[49m\u001b[43m \u001b[49m\u001b[43mlowBound\u001b[49m\u001b[38;5;241;43m=\u001b[39;49m\u001b[38;5;241;43m0\u001b[39;49m\u001b[43m,\u001b[49m\u001b[43m \u001b[49m\u001b[43mupBound\u001b[49m\u001b[38;5;241;43m=\u001b[39;49m\u001b[38;5;241;43m1\u001b[39;49m\u001b[43m)\u001b[49m\n\u001b[0;32m      9\u001b[0m Fs_B \u001b[38;5;241m=\u001b[39m p\u001b[38;5;241m.\u001b[39mLpVariable(\u001b[38;5;124m\"\u001b[39m\u001b[38;5;124mEstado_Fabrica_B\u001b[39m\u001b[38;5;124m\"\u001b[39m, months, cat\u001b[38;5;241m=\u001b[39m\u001b[38;5;124m\"\u001b[39m\u001b[38;5;124mBinary\u001b[39m\u001b[38;5;124m\"\u001b[39m, lowBound\u001b[38;5;241m=\u001b[39m\u001b[38;5;241m0\u001b[39m, upBound\u001b[38;5;241m=\u001b[39m\u001b[38;5;241m1\u001b[39m)\n\u001b[0;32m     11\u001b[0m Vc \u001b[38;5;241m=\u001b[39m p\u001b[38;5;241m.\u001b[39mLpVariable(\u001b[38;5;124m\"\u001b[39m\u001b[38;5;124mVariable_Costs\u001b[39m\u001b[38;5;124m\"\u001b[39m, lowBound\u001b[38;5;241m=\u001b[39m\u001b[38;5;241m0\u001b[39m)\n",
      "\u001b[1;31mTypeError\u001b[0m: LpVariable.__init__() got multiple values for argument 'lowBound'"
     ]
    }
   ],
   "source": [
    "prob = p.LpProblem(\"Minimizacion_costos\", p.LpMinimize)\n",
    "\n",
    "months = list(range(1,12))\n",
    "\n",
    "x1 = p.LpVariable.dicts(\"Fabrica_1\", months, lowBound=0)\n",
    "x2 = p.LpVariable.dicts(\"Fabrica_2\", months, lowBound=0)\n",
    "\n",
    "Fs_A = p.LpVariable(\"Estado_Fabrica_A\", months, cat=\"Binary\", lowBound=0, upBound=1)\n",
    "Fs_B = p.LpVariable(\"Estado_Fabrica_B\", months, cat=\"Binary\", lowBound=0, upBound=1)\n",
    "\n",
    "Vc = p.LpVariable(\"Variable_Costs\", lowBound=0)\n",
    "\n",
    "\n",
    "# Funcion objetivo\n",
    "prob += p.lpSum([x1*vc])"
   ]
  }
 ],
 "metadata": {
  "kernelspec": {
   "display_name": "optimization",
   "language": "python",
   "name": "python3"
  },
  "language_info": {
   "codemirror_mode": {
    "name": "ipython",
    "version": 3
   },
   "file_extension": ".py",
   "mimetype": "text/x-python",
   "name": "python",
   "nbconvert_exporter": "python",
   "pygments_lexer": "ipython3",
   "version": "3.12.3"
  }
 },
 "nbformat": 4,
 "nbformat_minor": 2
}
